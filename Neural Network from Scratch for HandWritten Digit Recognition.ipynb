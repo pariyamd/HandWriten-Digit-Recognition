{
  "cells": [
    {
      "cell_type": "markdown",
      "source": [
        "# Neural Network from scratch for HandWritten Digit Recognition"
      ],
      "metadata": {
        "id": "2aicV_fiq7P4"
      }
    },
    {
      "cell_type": "markdown",
      "metadata": {
        "id": "4RAINEsZZWxv"
      },
      "source": [
        "## loading the dataset"
      ]
    },
    {
      "cell_type": "code",
      "execution_count": null,
      "metadata": {
        "id": "ERs8aXb9ZWx2"
      },
      "outputs": [],
      "source": [
        "import numpy as np\n",
        "import matplotlib.pyplot as plt\n",
        "\n",
        "# A function to plot images\n",
        "def show_image(img):\n",
        "    image = img.reshape((28, 28))\n",
        "    plt.imshow(image, 'gray')\n",
        "\n",
        "\n",
        "# Reading The Train Set\n",
        "train_images_file = open('train-images.idx3-ubyte', 'rb')\n",
        "train_images_file.seek(4)\n",
        "num_of_train_images = int.from_bytes(train_images_file.read(4), 'big')\n",
        "train_images_file.seek(16)\n",
        "\n",
        "train_labels_file = open('train-labels.idx1-ubyte', 'rb')\n",
        "train_labels_file.seek(8)\n",
        "\n",
        "train_set = []\n",
        "for n in range(num_of_train_images):\n",
        "    image = np.zeros((784, 1))\n",
        "    for i in range(784):\n",
        "        image[i, 0] = int.from_bytes(train_images_file.read(1), 'big') / 256\n",
        "    \n",
        "    label_value = int.from_bytes(train_labels_file.read(1), 'big')\n",
        "    label = np.zeros((10, 1))\n",
        "    label[label_value, 0] = 1\n",
        "    \n",
        "    train_set.append((image, label))\n",
        "\n",
        "\n",
        "# Reading The Test Set\n",
        "test_images_file = open('t10k-images.idx3-ubyte', 'rb')\n",
        "test_images_file.seek(4)\n",
        "\n",
        "test_labels_file = open('t10k-labels.idx1-ubyte', 'rb')\n",
        "test_labels_file.seek(8)\n",
        "\n",
        "num_of_test_images = int.from_bytes(test_images_file.read(4), 'big')\n",
        "test_images_file.seek(16)\n",
        "\n",
        "test_set = []\n",
        "for n in range(num_of_test_images):\n",
        "    image = np.zeros((784, 1))\n",
        "    for i in range(784):\n",
        "        image[i] = int.from_bytes(test_images_file.read(1), 'big') / 256\n",
        "    \n",
        "    label_value = int.from_bytes(test_labels_file.read(1), 'big')\n",
        "    label = np.zeros((10, 1))\n",
        "    label[label_value, 0] = 1\n",
        "    \n",
        "    test_set.append((image, label))\n",
        "\n"
      ]
    },
    {
      "cell_type": "code",
      "execution_count": null,
      "metadata": {
        "id": "1LIx0tp-ZWx4",
        "outputId": "e5e5b5fb-f46d-45a4-d5b3-3ef602f5106c"
      },
      "outputs": [
        {
          "data": {
            "image/png": "[encoded data removed]",
            "text/plain": [
              "<Figure size 432x288 with 1 Axes>"
            ]
          },
          "metadata": {
            "needs_background": "light"
          },
          "output_type": "display_data"
        }
      ],
      "source": [
        "# Plotting an image\n",
        "show_image(train_set[0][0])\n",
        "plt.show()"
      ]
    },
    {
      "cell_type": "markdown",
      "metadata": {
        "id": "VjBOMu_MZWx5"
      },
      "source": [
        "## Design Network Architecture"
      ]
    },
    {
      "cell_type": "markdown",
      "metadata": {
        "id": "4QaKV_HLZWx6"
      },
      "source": [
        "$a_1=sigmoid(w_0*a_0+b_0)$ \n",
        "\n",
        "$w_0=[16,784]$\n",
        "\n",
        "$a_0=[784,1]$\n",
        "\n",
        "$b_0=[16,1]$"
      ]
    },
    {
      "cell_type": "markdown",
      "metadata": {
        "id": "cDRNLh4PZWx6"
      },
      "source": [
        "$a_2=sigmoid(w_1*a_1+b_1)$ \n",
        "\n",
        "$w_1=[16,16]$\n",
        "\n",
        "$a_1=[16,1]$\n",
        "\n",
        "$b_1=[16,1]$"
      ]
    },
    {
      "cell_type": "markdown",
      "metadata": {
        "id": "hMbjafFnZWx7"
      },
      "source": [
        "$a_3=sigmoid(w_2*a_2+b_2)$ \n",
        "\n",
        "$w_2=[10,16]$\n",
        "\n",
        "$a_2=[16,1]$\n",
        "\n",
        "$b_2=[10,1]$\n"
      ]
    },
    {
      "cell_type": "markdown",
      "metadata": {
        "id": "kJK7UwT9ZWx8"
      },
      "source": [
        "## Feed Forward Test"
      ]
    },
    {
      "cell_type": "code",
      "execution_count": null,
      "metadata": {
        "id": "hd2KC8OrZWx8"
      },
      "outputs": [],
      "source": [
        "def sigmoid(x):\n",
        "    return 1/(1 + np.exp(-x))\n",
        "W=[]\n",
        "b=[]\n",
        "w_0=np.random.randn(16,784)\n",
        "b_0=np.zeros((16,1))\n",
        "w_1=np.random.randn(16,16)\n",
        "b_1=np.zeros((16,1))\n",
        "w_2=np.random.randn(10,16)\n",
        "b_2=np.zeros((10,1))\n",
        "W=[w_0,w_1,w_2]\n",
        "b=[b_0,b_1,b_2]\n"
      ]
    },
    {
      "cell_type": "code",
      "execution_count": null,
      "metadata": {
        "id": "NAJNZROiZWx9"
      },
      "outputs": [],
      "source": [
        "labels=[]\n",
        "for i in range(100):\n",
        "    a_0=train_set[i][0]\n",
        "    z_0=np.matmul(W[0],a_0)+b[0]\n",
        "    a_1=sigmoid(z_0)\n",
        "    z_1=np.matmul(W[1],a_1)+b[1]\n",
        "    a_2=sigmoid(z_1)\n",
        "    z_2=np.matmul(W[2],a_2)+b[2]\n",
        "    a_3=sigmoid(z_2)    \n",
        "    labels.append(np.argmax(a_3))\n"
      ]
    },
    {
      "cell_type": "code",
      "execution_count": null,
      "metadata": {
        "id": "c88nd5kXZWx9",
        "outputId": "5679fddf-89bf-4d3c-fac1-9ed1f96acc38"
      },
      "outputs": [
        {
          "name": "stdout",
          "output_type": "stream",
          "text": [
            "accuracy =  0.25\n"
          ]
        }
      ],
      "source": [
        "train_set_labels=[np.argmax(i) for i in np.array(train_set)[:,1]]\n",
        "accuracy=np.sum(np.array(labels)==np.array(train_set_labels[:100]))/100\n",
        "print(\"accuracy = \",accuracy)"
      ]
    },
    {
      "cell_type": "markdown",
      "metadata": {
        "id": "lc0z4ag5ZWx-"
      },
      "source": [
        "#### as we can see accuracy is only 25% as if it is totaly random"
      ]
    },
    {
      "cell_type": "markdown",
      "metadata": {
        "id": "cAH5uwV-ZWyA"
      },
      "source": [
        "## backpropagation and training algorithm"
      ]
    },
    {
      "cell_type": "code",
      "execution_count": null,
      "metadata": {
        "id": "dDO2yjowZWyB"
      },
      "outputs": [],
      "source": [
        "from tqdm import tqdm\n",
        "import random\n",
        "def sigmoid_derivative(x):\n",
        "    return x*(1-x)\n",
        "layers=3\n",
        "\n",
        "def train_model(batch_size, lr,epochs,size,activation,activation_deriv):\n",
        "    \n",
        "    np.random.seed(0)\n",
        "    W=[np.random.randn(16,784),np.random.randn(16,16),np.random.randn(10,16)]\n",
        "    b=[np.zeros((16,1)),np.zeros((16,1)),np.zeros((10,1))]\n",
        "    \n",
        "    costs=[]\n",
        "    t_set=train_set[:size]\n",
        "    \n",
        "    for x in tqdm(range(epochs)):\n",
        "        random.shuffle(t_set)\n",
        "        cost=0\n",
        "        for batch in np.split(np.array(t_set),size/batch_size):\n",
        "            #init to zero\n",
        "            W_grad=[np.zeros((16,784)),np.zeros((16,16)),np.zeros((10,16))]\n",
        "            b_grad=[np.zeros((16,1)),np.zeros((16,1)),np.zeros((10,1))]\n",
        "\n",
        "            for t in batch:\n",
        "                A=[t[0]]\n",
        "                y=t[1]\n",
        "                Z=[]\n",
        "                #calculate output (forward propagate)\n",
        "                for i in range(layers):\n",
        "                    Z.append(np.matmul(W[i],A[i])+b[i])\n",
        "                    A.append(activation(Z[i]))\n",
        "                cost+=np.matmul((A[3]-y).T,(A[3]-y))\n",
        "\n",
        "                #backpropagation\n",
        "                #calculate deltas    \n",
        "                d=[2*(A[3]-y)]\n",
        "                d.insert(0,np.multiply(np.matmul(W[2].T,d[0]),activation_deriv(A[2])))\n",
        "                d.insert(0,np.multiply(np.matmul(W[1].T,d[0]),activation_deriv(A[1])))\n",
        "\n",
        "\n",
        "                #calculate derivatives\n",
        "                dCdB = [np.zeros(b.shape) for b in b]\n",
        "                dCdW = [np.zeros(w.shape) for w in W]\n",
        "                for l in range(1, 4):\n",
        "                    dCdB[-l] = d[-l]\n",
        "                    dCdW[-l] = np.dot(d[-l], A[-l-1].T)  \n",
        "\n",
        "                # sum for every image in batch\n",
        "                for i in range(3):\n",
        "                    b_grad = [b0+b1 for b0, b1 in zip(b_grad, dCdB)]\n",
        "                    W_grad = [w0+w1 for w0, w1 in zip(W_grad, dCdW)]\n",
        "\n",
        "            W_grad=np.divide(W_grad,batch_size)\n",
        "            b_grad=np.divide(b_grad,batch_size)\n",
        "            W=W-(lr*W_grad)\n",
        "            b=b-(lr*b_grad)\n",
        "        costs.append(cost[0][0]/size)\n",
        "    return costs,W,b\n",
        "\n",
        "\n"
      ]
    },
    {
      "cell_type": "markdown",
      "metadata": {
        "id": "eubb9McgZWyB"
      },
      "source": [
        "# Model Evaluation"
      ]
    },
    {
      "cell_type": "code",
      "execution_count": null,
      "metadata": {
        "id": "ue7-tLugZWyB"
      },
      "outputs": [],
      "source": [
        "def predict(W,b,in_set,out_set, activation):\n",
        "    size=len(in_set)\n",
        "    labels=[]\n",
        "    for im in in_set:\n",
        "        z_0=np.matmul(W[0],im)+b[0]\n",
        "        a_1=activation(z_0)\n",
        "        z_1=np.matmul(W[1],a_1)+b[1]\n",
        "        a_2=activation(z_1)\n",
        "        z_2=np.matmul(W[2],a_2)+b[2]\n",
        "        a_3=activation(z_2)    \n",
        "        labels.append(np.argmax(a_3))\n",
        "    train_set_labels=[np.argmax(i) for i in np.array(out_set)]\n",
        "    accuracy=np.sum(np.array(labels)==np.array(train_set_labels))\n",
        "    print(\"accuracy = \",accuracy/size)"
      ]
    },
    {
      "cell_type": "markdown",
      "metadata": {
        "id": "EqXHOvROZWyC"
      },
      "source": [
        "$batch size=10 \\ \\ learning rate =0.1 \\ \\ epochs=20 \\ \\ size=100$"
      ]
    },
    {
      "cell_type": "code",
      "execution_count": null,
      "metadata": {
        "id": "ox9-4fRXZWyD",
        "outputId": "5ff9f3f5-a19e-4031-c1d4-032b8abc04be"
      },
      "outputs": [
        {
          "name": "stderr",
          "output_type": "stream",
          "text": [
            "100%|██████████████████████████████████████████████████████████████████████████████████| 20/20 [00:01<00:00, 19.06it/s]"
          ]
        },
        {
          "name": "stdout",
          "output_type": "stream",
          "text": [
            "accuracy =  0.89\n"
          ]
        },
        {
          "name": "stderr",
          "output_type": "stream",
          "text": [
            "\n"
          ]
        },
        {
          "data": {
            "text/plain": [
              "[<matplotlib.lines.Line2D at 0x1c4bd41c308>]"
            ]
          },
          "execution_count": 8,
          "metadata": {},
          "output_type": "execute_result"
        },
        {
          "data": {
            "image/png": "[encoded data removed]",
            "text/plain": [
              "<Figure size 432x288 with 1 Axes>"
            ]
          },
          "metadata": {
            "needs_background": "light"
          },
          "output_type": "display_data"
        }
      ],
      "source": [
        "batch_size=10\n",
        "lr=0.1\n",
        "epochs=20\n",
        "size=100\n",
        "\n",
        "costs,W,b=train_model(batch_size,lr,epochs,size,sigmoid,sigmoid_derivative)\n",
        "predict(W,b,np.array(train_set[:size])[:,0],np.array(train_set[:size])[:,1],sigmoid)\n",
        "plt.plot(np.arange(1,epochs+1,1),costs)\n"
      ]
    },
    {
      "cell_type": "markdown",
      "metadata": {
        "id": "zR1Kg7RpZWyD"
      },
      "source": [
        "$batch size=10 \\ \\ learning rate =1 \\ \\ epochs=400 \\ \\ size=100$"
      ]
    },
    {
      "cell_type": "code",
      "execution_count": null,
      "metadata": {
        "id": "3A3yfKiFZWyE",
        "outputId": "5d55c678-cf5a-4622-bccb-b5c7e93c974f"
      },
      "outputs": [
        {
          "name": "stderr",
          "output_type": "stream",
          "text": [
            "100%|████████████████████████████████████████████████████████████████████████████████| 400/400 [00:21<00:00, 18.77it/s]"
          ]
        },
        {
          "name": "stdout",
          "output_type": "stream",
          "text": [
            "accuracy =  0.53\n"
          ]
        },
        {
          "name": "stderr",
          "output_type": "stream",
          "text": [
            "\n"
          ]
        },
        {
          "data": {
            "text/plain": [
              "[<matplotlib.lines.Line2D at 0x1c4e1c8aa08>]"
            ]
          },
          "execution_count": 35,
          "metadata": {},
          "output_type": "execute_result"
        },
        {
          "data": {
            "image/png": "[encoded data removed]",
            "text/plain": [
              "<Figure size 432x288 with 1 Axes>"
            ]
          },
          "metadata": {
            "needs_background": "light"
          },
          "output_type": "display_data"
        }
      ],
      "source": [
        "batch_size=10\n",
        "lr=1\n",
        "epochs=400\n",
        "size=100\n",
        "\n",
        "costs,W,b=train_model(batch_size,lr,epochs,size,sigmoid,sigmoid_derivative)\n",
        "predict(W,b,np.array(train_set[:size])[:,0],np.array(train_set[:size])[:,1],sigmoid)\n",
        "plt.plot(np.arange(1,epochs+1,1),costs)\n"
      ]
    },
    {
      "cell_type": "markdown",
      "metadata": {
        "id": "qEqYEbUCZWyE"
      },
      "source": [
        "### training on all images in MNIST dataset"
      ]
    },
    {
      "cell_type": "markdown",
      "metadata": {
        "id": "tpl7Lq0tZWyF"
      },
      "source": [
        "$batch size=50 \\ \\ learning rate =1 \\ \\ epochs=5 \\ \\ size=60000$"
      ]
    },
    {
      "cell_type": "code",
      "execution_count": null,
      "metadata": {
        "id": "NyEM7Wl_ZWyF",
        "outputId": "77e82644-b761-4996-ac1f-fb2db73c68f3"
      },
      "outputs": [
        {
          "name": "stderr",
          "output_type": "stream",
          "text": [
            "100%|████████████████████████████████████████████████████████████████████████████████████| 5/5 [02:32<00:00, 30.42s/it]\n"
          ]
        },
        {
          "data": {
            "text/plain": [
              "[<matplotlib.lines.Line2D at 0x1c4dd8d97c8>]"
            ]
          },
          "execution_count": 10,
          "metadata": {},
          "output_type": "execute_result"
        },
        {
          "data": {
            "image/png": "[encoded data removed]",
            "text/plain": [
              "<Figure size 432x288 with 1 Axes>"
            ]
          },
          "metadata": {
            "needs_background": "light"
          },
          "output_type": "display_data"
        }
      ],
      "source": [
        "batch_size=50\n",
        "lr=1\n",
        "epochs=5\n",
        "size=60000\n",
        "costs,W,b=train_model(batch_size,lr,epochs,size,sigmoid,sigmoid_derivative)\n",
        "plt.plot(np.arange(1,epochs+1,1),costs)"
      ]
    },
    {
      "cell_type": "markdown",
      "metadata": {
        "id": "-xNkllccZWyF"
      },
      "source": [
        "### accuracy on training set"
      ]
    },
    {
      "cell_type": "code",
      "execution_count": null,
      "metadata": {
        "id": "r7U18kpwZWyG",
        "outputId": "8864ee07-cb75-47e6-fb12-f72d6c375304"
      },
      "outputs": [
        {
          "name": "stdout",
          "output_type": "stream",
          "text": [
            "accuracy =  0.8899\n"
          ]
        }
      ],
      "source": [
        "predict(W,b,np.array(train_set)[:,0],np.array(train_set)[:,1],sigmoid)\n"
      ]
    },
    {
      "cell_type": "markdown",
      "metadata": {
        "id": "oIvfJYCDZWyG"
      },
      "source": [
        "### accuracy on test set"
      ]
    },
    {
      "cell_type": "code",
      "execution_count": null,
      "metadata": {
        "id": "YbXe_OM7ZWyG",
        "outputId": "a6770010-4622-4d0b-e70d-f9a42da8044c"
      },
      "outputs": [
        {
          "name": "stdout",
          "output_type": "stream",
          "text": [
            "accuracy =  0.8878\n"
          ]
        }
      ],
      "source": [
        "predict(W,b,np.array(test_set)[:,0],np.array(test_set)[:,1],sigmoid)"
      ]
    },
    {
      "cell_type": "markdown",
      "source": [
        "# Additional Analysis"
      ],
      "metadata": {
        "id": "qdmh8K1pqeeZ"
      }
    },
    {
      "cell_type": "markdown",
      "metadata": {
        "id": "D3iGnfBUZWyH"
      },
      "source": [
        "## 1- Adverserial Attack"
      ]
    },
    {
      "cell_type": "code",
      "execution_count": null,
      "metadata": {
        "id": "XdSinEUdZWyH"
      },
      "outputs": [],
      "source": [
        "shifted=[]\n",
        "for i in range(len(test_set)):\n",
        "    shifted.append(np.vstack((np.zeros((112,1)),test_set[i][0][:-112])))\n",
        "    "
      ]
    },
    {
      "cell_type": "code",
      "execution_count": null,
      "metadata": {
        "id": "l2wPDQcrZWyH",
        "outputId": "d38e89ce-1c39-4789-8a88-4932bf0630b4"
      },
      "outputs": [
        {
          "name": "stdout",
          "output_type": "stream",
          "text": [
            "accuracy =  0.178\n"
          ]
        }
      ],
      "source": [
        "predict(W,b,shifted,np.array(test_set)[:,1],sigmoid)\n"
      ]
    },
    {
      "cell_type": "markdown",
      "metadata": {
        "id": "9z7gA9JlZWyH"
      },
      "source": [
        "as we can see the accuracy of model dropped to 14% just by shifting images 4 columns to the right"
      ]
    },
    {
      "cell_type": "markdown",
      "metadata": {
        "id": "PAe3TJ0nZWyI"
      },
      "source": [
        "## 2- Activation Functions"
      ]
    },
    {
      "cell_type": "code",
      "execution_count": null,
      "metadata": {
        "id": "TXZR7b74ZWyI"
      },
      "outputs": [],
      "source": [
        "def tanh(x):\n",
        "    return np.tanh(x)\n",
        "def tanh_deriv(x):\n",
        "    return 1-np.tanh(x)**2"
      ]
    },
    {
      "cell_type": "markdown",
      "metadata": {
        "id": "JGhRdiSsZWyI"
      },
      "source": [
        "$batch size=50 \\ \\ learning rate =1 \\ \\ epochs=5 \\ \\ size=60000$"
      ]
    },
    {
      "cell_type": "code",
      "execution_count": null,
      "metadata": {
        "id": "bcZu8KX1ZWyI",
        "outputId": "676f0764-6b4f-4423-8aef-44697ea76e99"
      },
      "outputs": [
        {
          "name": "stderr",
          "output_type": "stream",
          "text": [
            "100%|████████████████████████████████████████████████████████████████████████████████████| 5/5 [02:23<00:00, 28.71s/it]\n"
          ]
        },
        {
          "data": {
            "text/plain": [
              "[<matplotlib.lines.Line2D at 0x1c4e19ccd08>]"
            ]
          },
          "execution_count": 16,
          "metadata": {},
          "output_type": "execute_result"
        },
        {
          "data": {
            "image/png": "[encoded data removed]",
            "text/plain": [
              "<Figure size 432x288 with 1 Axes>"
            ]
          },
          "metadata": {
            "needs_background": "light"
          },
          "output_type": "display_data"
        }
      ],
      "source": [
        "batch_size=50\n",
        "lr=0.1\n",
        "epochs=5\n",
        "size=60000\n",
        "\n",
        "costs,W,b=train_model(batch_size,lr,epochs,size,tanh,tanh_deriv)\n",
        "plt.plot(np.arange(1,epochs+1,1),costs)"
      ]
    },
    {
      "cell_type": "code",
      "execution_count": null,
      "metadata": {
        "id": "Wui55_ODZWyJ",
        "outputId": "6aebee83-0fd3-41cd-c492-577cb1a25215"
      },
      "outputs": [
        {
          "name": "stdout",
          "output_type": "stream",
          "text": [
            "accuracy =  0.8097\n"
          ]
        }
      ],
      "source": [
        "predict(W,b,np.array(test_set)[:,0],np.array(test_set)[:,1],tanh)"
      ]
    },
    {
      "cell_type": "markdown",
      "metadata": {
        "id": "l18dhaEVZWyJ"
      },
      "source": [
        "## 3 - batch gradient descent"
      ]
    },
    {
      "cell_type": "code",
      "execution_count": null,
      "metadata": {
        "id": "UkjcR9SlZWyJ"
      },
      "outputs": [],
      "source": [
        "def batch_gd(lr,epochs,size,activation,activation_deriv):\n",
        "    \n",
        "    np.random.seed(0)\n",
        "    W=[np.random.randn(16,784),np.random.randn(16,16),np.random.randn(10,16)]\n",
        "    b=[np.zeros((16,1)),np.zeros((16,1)),np.zeros((10,1))]\n",
        "    \n",
        "    costs=[]\n",
        "    t_set=train_set[:size]\n",
        "    \n",
        "    for x in tqdm(range(epochs)):\n",
        "        random.shuffle(t_set)\n",
        "        cost=0\n",
        "        #init to zero\n",
        "        W_grad=[np.zeros((16,784)),np.zeros((16,16)),np.zeros((10,16))]\n",
        "        b_grad=[np.zeros((16,1)),np.zeros((16,1)),np.zeros((10,1))]\n",
        "\n",
        "        for t in np.array(t_set):\n",
        "            A=[t[0]]\n",
        "            y=t[1]\n",
        "            Z=[]\n",
        "            #calculate output (forward propagate)\n",
        "            for i in range(layers):\n",
        "                Z.append(np.matmul(W[i],A[i])+b[i])\n",
        "                A.append(activation(Z[i]))\n",
        "            cost+=np.matmul((A[3]-y).T,(A[3]-y))\n",
        "\n",
        "            #backpropagation\n",
        "            #calculate deltas    \n",
        "            d=[2*(A[3]-y)]\n",
        "            d.insert(0,np.multiply(np.matmul(W[2].T,d[0]),activation_deriv(A[2])))\n",
        "            d.insert(0,np.multiply(np.matmul(W[1].T,d[0]),activation_deriv(A[1])))\n",
        "\n",
        "\n",
        "            #calculate derivatives\n",
        "            dCdB = [np.zeros(b.shape) for b in b]\n",
        "            dCdW = [np.zeros(w.shape) for w in W]\n",
        "            for l in range(1, 4):\n",
        "                dCdB[-l] = d[-l]\n",
        "                dCdW[-l] = np.dot(d[-l], A[-l-1].T)  \n",
        "\n",
        "            # sum for every image in batch\n",
        "            for i in range(3):\n",
        "                b_grad = [b0+b1 for b0, b1 in zip(b_grad, dCdB)]\n",
        "                W_grad = [w0+w1 for w0, w1 in zip(W_grad, dCdW)]\n",
        "\n",
        "        W_grad=np.divide(W_grad,batch_size)\n",
        "        b_grad=np.divide(b_grad,batch_size)\n",
        "        W=W-(lr*W_grad)\n",
        "        b=b-(lr*b_grad)\n",
        "        costs.append(cost[0][0]/size)\n",
        "    return costs,W,b\n"
      ]
    },
    {
      "cell_type": "code",
      "execution_count": null,
      "metadata": {
        "id": "Qq2Zb6_LZWyJ",
        "outputId": "4e0b718c-7092-439c-97e4-a17d21d84f69"
      },
      "outputs": [
        {
          "name": "stderr",
          "output_type": "stream",
          "text": [
            "100%|██████████████████████████████████████████████████████████████████████████████████| 20/20 [00:01<00:00, 18.21it/s]\n"
          ]
        },
        {
          "data": {
            "text/plain": [
              "[<matplotlib.lines.Line2D at 0x1c4e1ba7d88>]"
            ]
          },
          "execution_count": 30,
          "metadata": {},
          "output_type": "execute_result"
        },
        {
          "data": {
            "image/png": "[encoded data removed]",
            "text/plain": [
              "<Figure size 432x288 with 1 Axes>"
            ]
          },
          "metadata": {
            "needs_background": "light"
          },
          "output_type": "display_data"
        }
      ],
      "source": [
        "lr=1\n",
        "epochs=20\n",
        "size=100\n",
        "\n",
        "costs,W,b=batch_gd(lr,epochs,size,sigmoid,sigmoid_derivative)\n",
        "plt.plot(np.arange(1,epochs+1,1),costs)"
      ]
    },
    {
      "cell_type": "code",
      "execution_count": null,
      "metadata": {
        "id": "pavZ8dP3ZWyK",
        "outputId": "cbcdec7f-a22c-4299-aa69-834b9d40392e"
      },
      "outputs": [
        {
          "name": "stdout",
          "output_type": "stream",
          "text": [
            "accuracy =  0.1136\n"
          ]
        }
      ],
      "source": [
        "predict(W,b,np.array(test_set)[:,0],np.array(test_set)[:,1],sigmoid) "
      ]
    },
    {
      "cell_type": "markdown",
      "metadata": {
        "id": "VXcoeUg-ZWyK"
      },
      "source": [
        "دقت به شدت کاهش یافته(۱۰ درصد) و در چند ایپاک اول در مینیمم محل گیر می‌کند و خطا از ۱ کمتر نمی‌شود"
      ]
    },
    {
      "cell_type": "code",
      "execution_count": null,
      "metadata": {
        "id": "U6HbyXdCZWyK"
      },
      "outputs": [],
      "source": []
    }
  ],
  "metadata": {
    "kernelspec": {
      "display_name": "Python 3",
      "language": "python",
      "name": "python3"
    },
    "language_info": {
      "codemirror_mode": {
        "name": "ipython",
        "version": 3
      },
      "file_extension": ".py",
      "mimetype": "text/x-python",
      "name": "python",
      "nbconvert_exporter": "python",
      "pygments_lexer": "ipython3",
      "version": "3.7.7"
    },
    "colab": {
      "provenance": [],
      "collapsed_sections": []
    }
  },
  "nbformat": 4,
  "nbformat_minor": 0
}